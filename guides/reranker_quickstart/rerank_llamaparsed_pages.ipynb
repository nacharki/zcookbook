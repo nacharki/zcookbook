{
 "cells": [
  {
   "cell_type": "markdown",
   "metadata": {},
   "source": [
    "# Reranking top pages from PDF using LlamaParse and ZeroEntropy\n",
    "\n",
    "In this guide, we’ll build a simple workflow to parse PDF documents into text using LlamaParse and then query and rerank the textual data. \n",
    "\n",
    "---\n",
    "\n",
    "### Pre-requisites\n",
    "- Python 3.8+\n",
    "- `zeroentropy` client (`pip install zeroentropy`)\n",
    "- `llama_cloud_services` client (`pip install llama_cloud_services`)\n",
    "- A ZeroEntropy API key ([Get yours here](https://dashboard.zeroentropy.dev))\n",
    "- A LlamaParse API key ([Get yours here](https://docs.cloud.llamaindex.ai/api_key))\n",
    "- A .env file with the following: \n",
    "\n",
    "```bash\n",
    "ZEROENTROPY_API_KEY=your_api_key_here\\\n",
    "LLAMAPARSE_API_KEY=your_api_key_here\\\n",
    "```\n",
    "\n",
    "---\n",
    "\n",
    "### What You’ll Learn\n",
    "- How to use LlamaParse to convert PDF documents into usable text\n",
    "- How to use ZeroEntropy to semantically index the text docs\n",
    "- How to query your docs using semantic search (top pages)\n",
    "- How to rerank your results using the reranker\n",
    "\n",
    "---\n",
    "\n",
    "### Directory Structure\n",
    "\n",
    "This guide expects a directory like this:\n",
    "\n",
    "```bash\n",
    "zcookbook/\n",
    "├── guides/\n",
    "│   └── reranker_quickstart/\n",
    "│       ├── rerank_llamaparsed_pages.ipynb\n",
    "│       └── sample_docs/\n",
    "│           ├── doc1.pdf\n",
    "│           ├── doc2.pdf\n",
    "│           └── doc3.pdf\n",
    "│           └── ...\n",
    "├── LICENSE\n",
    "└── README.md\n",
    "```"
   ]
  },
  {
   "cell_type": "markdown",
   "metadata": {},
   "source": [
    "### Setting up your ZeroEntropy Client\n",
    "\n",
    "First, install dependencies:\n",
    "\n",
    "```bash\n",
    "!pip install zeroentropy python-dotenv llama_cloud_services\n",
    "```"
   ]
  },
  {
   "cell_type": "markdown",
   "metadata": {},
   "source": [
    "Now load your API keys and initialize the clients"
   ]
  },
  {
   "cell_type": "code",
   "execution_count": null,
   "metadata": {},
   "outputs": [
    {
     "name": "stdout",
     "output_type": "stream",
     "text": [
      "success!\n"
     ]
    }
   ],
   "source": [
    "from zeroentropy import AsyncZeroEntropy, ConflictError\n",
    "from llama_cloud_services import LlamaParse\n",
    "import os\n",
    "\n",
    "api_key = os.getenv(\"ZEROENTROPY_API_KEY\")\n",
    "if not api_key:\n",
    "    raise ValueError(\"API Key not found. Make sure your .env file has ZEROENTROPY_API_KEY.\")\n",
    "\n",
    "#We initialize the AsyncZeroEntropy client in order to parse multiple documents in parallel\n",
    "#If you want to parse a single document, you can use the synchronous client instead\n",
    "zclient = AsyncZeroEntropy(api_key=api_key)\n",
    "\n",
    "#We initialize the llama_parse client to parse the PDF documents into text\n",
    "api_key = os.getenv(\"LLAMAPARSE_API_KEY\")\n",
    "llamaParser = LlamaParse(\n",
    "    api_key=api_key,\n",
    "    num_workers=1,       # if multiple files passed, split in `num_workers` API calls\n",
    "    result_type=\"text\",\n",
    "    verbose=True,\n",
    "    language=\"en\",       # optionally define a language, default=en\n",
    ")"
   ]
  },
  {
   "cell_type": "markdown",
   "metadata": {},
   "source": [
    "### Adding a collection to the ZeroEntropy client"
   ]
  },
  {
   "cell_type": "code",
   "execution_count": 48,
   "metadata": {},
   "outputs": [
    {
     "data": {
      "text/plain": [
       "<coroutine object AsyncCollectionsResource.add at 0x76b360222680>"
      ]
     },
     "execution_count": 48,
     "metadata": {},
     "output_type": "execute_result"
    }
   ],
   "source": [
    "collection_name = \"pdf_docs_demo_vn\"\n",
    "zclient.collections.add(collection_name=collection_name)"
   ]
  },
  {
   "cell_type": "markdown",
   "metadata": {},
   "source": [
    "Now define a function to acquire the paths for all the PDF files:"
   ]
  },
  {
   "cell_type": "code",
   "execution_count": null,
   "metadata": {},
   "outputs": [],
   "source": [
    "def get_file_names(directory_path):\n",
    "    try:\n",
    "        # Check if path exists and is a directory\n",
    "        if not os.path.exists(directory_path):\n",
    "            raise FileNotFoundError(f\"Directory not found: {directory_path}\")\n",
    "        if not os.path.isdir(directory_path):\n",
    "            raise NotADirectoryError(f\"Path is not a directory: {directory_path}\")\n",
    "            \n",
    "        # Get list of files (excluding directories)\n",
    "        file_names = [\n",
    "            os.path.join(directory_path, f)\n",
    "            for f in os.listdir(directory_path) \n",
    "            if os.path.isfile(os.path.join(directory_path, f))\n",
    "        ]\n",
    "        \n",
    "        return file_names\n",
    "    \n",
    "    except PermissionError:\n",
    "        raise PermissionError(f\"Permission denied accessing directory: {directory_path}\")"
   ]
  },
  {
   "cell_type": "markdown",
   "metadata": {},
   "source": [
    "Let’s use LlamaParse to parse all .pdf files in our sample folder into text:"
   ]
  },
  {
   "cell_type": "code",
   "execution_count": 50,
   "metadata": {},
   "outputs": [
    {
     "name": "stdout",
     "output_type": "stream",
     "text": [
      "['./sample_docs/dashboard-sp-500-factor.pdf', './sample_docs/annual-report-multi-page.pdf', './sample_docs/S-P-Global-2024-PageFifty.pdf', './sample_docs/S-P-Global-2024-PageNine.pdf', './sample_docs/annual-report-sg-en-spy-PageSeven.pdf']\n"
     ]
    },
    {
     "name": "stderr",
     "output_type": "stream",
     "text": [
      "Getting job results:   0%|          | 0/5 [00:00<?, ?it/s]"
     ]
    },
    {
     "name": "stdout",
     "output_type": "stream",
     "text": [
      "Started parsing the file under job_id f5a8d2db-9542-413c-af7f-35f788a4f6e3\n"
     ]
    },
    {
     "name": "stderr",
     "output_type": "stream",
     "text": [
      "Getting job results:  20%|██        | 1/5 [00:06<00:24,  6.13s/it]"
     ]
    },
    {
     "name": "stdout",
     "output_type": "stream",
     "text": [
      "Started parsing the file under job_id 812924e5-a854-4f8c-b062-2f3ac15965d5\n"
     ]
    },
    {
     "name": "stderr",
     "output_type": "stream",
     "text": [
      "Getting job results:  40%|████      | 2/5 [00:10<00:15,  5.30s/it]"
     ]
    },
    {
     "name": "stdout",
     "output_type": "stream",
     "text": [
      "Started parsing the file under job_id 9f05f3f9-5ca7-4cac-8269-8381334f5135\n"
     ]
    },
    {
     "name": "stderr",
     "output_type": "stream",
     "text": [
      "Getting job results:  60%|██████    | 3/5 [00:15<00:09,  4.95s/it]"
     ]
    },
    {
     "name": "stdout",
     "output_type": "stream",
     "text": [
      "Started parsing the file under job_id b6f29839-8c6e-4f31-aceb-62942c2d5d55\n"
     ]
    },
    {
     "name": "stderr",
     "output_type": "stream",
     "text": [
      "Getting job results:  80%|████████  | 4/5 [00:21<00:05,  5.34s/it]"
     ]
    },
    {
     "name": "stdout",
     "output_type": "stream",
     "text": [
      "Started parsing the file under job_id d4d04477-5247-4caf-b60e-49effeb7845f\n",
      ".."
     ]
    },
    {
     "name": "stderr",
     "output_type": "stream",
     "text": [
      "Getting job results: 100%|██████████| 5/5 [02:30<00:00, 30.02s/it]\n"
     ]
    }
   ],
   "source": [
    "folder_path = \"./sample_docs\"\n",
    "file_names = get_file_names(folder_path)\n",
    "print(file_names)\n",
    "text_data = llamaParser.parse(file_names)"
   ]
  },
  {
   "cell_type": "markdown",
   "metadata": {},
   "source": [
    "## Organizing your documents\n",
    "\n",
    "Once parsed, we form a list of documents with a list of the pages within them. "
   ]
  },
  {
   "cell_type": "code",
   "execution_count": 57,
   "metadata": {},
   "outputs": [
    {
     "name": "stdout",
     "output_type": "stream",
     "text": [
      "For use with institutions only, not for use with retail investors.\n",
      "\n",
      "\n",
      "                                                                                                                                                                                                                                             Index Dashboard: S&P 500® Factor Indices\n",
      "\n",
      "S&P 500 Quality FCF Aristocrats                                                                                                                                                                                                                                             June 2025\n",
      "Description\n",
      "The S&P 500 Quality FCF Aristocrats Index measures the performance of companies in the S&P 500 that have had positive free cash flow (FCF) for at least 10 consecutive years\n",
      "and simultaneously have high FCF margin and high FCF return on invested capital (ROIC). As of June 30, 2025 the index comprised 99 constituents.\n",
      "\n",
      "Index Statistics                1M      3M       YTD         12M    3Y                                                        5Y  10Y      15Y                                             Low Volatility\n",
      "Total Return (Ann)             4.1%     11.9%    9.2%    20.0%    25.9%    20.1%                                                 16.7%     17.7%\n",
      "Relative to Benchmark         -1.0%      1.0%    3.0%     4.8%     6.2%     3.5%                                                  3.1%     2.8%\n",
      "Index Volatility                                         10.0%    15.4%    16.4%                                                 15.4%     14.1%    Small Size                             Benchmark                                                         Momentum\n",
      "Tracking Error                                            3.9%     4.5%     4.3%                                                  3.9%     3.7%\n",
      "Benchmark: S&P 500.       1 Yr trailing beta to benchmark = 0.95\n",
      "\n",
      "Portfolio Statistics          Index     Bmark          Top Sector Tilts (versus benchmark)\n",
      "Active Share (Stock)          60%              0%      Sector              Index                                                  Bmark    Diff.    Quality                                                                                                  Value\n",
      "Active Share (Sector)         16%              0%      IT                   42%                                                   32%      10%\n",
      "Concentration (HH Index)      308.2     203.7          Financials           18%                                                   14%      3%\n",
      "Correlation (stock)           0.32           0.34      Industrials           5%                                                    9%      4%\n",
      "Ann. Turnover (last 10 yr)    0.19           0.04      Cons. Disc.           8%                                                   11%      3%                                              Dividend      High Beta\n",
      "\n",
      "Index-Weighted Avg.           Index     Bmark          Sector Tilts (Detail)                                                                                                                           Factor Exposure Chart\n",
      "Stock Volatility              33%             35%      50%\n",
      "12M - 1M price return         26%             23%      25%\n",
      "Book/Price                    0.08           0.19                                                                                        3%         2%                                     10%                                                               1%\n",
      "Earnings/Price                0.03           0.04        0%\n",
      "Sales/Price                   0.17           0.31                 -3%                                                0%           -3%                     -4%                                          -2%  -2%                                                -2%\n",
      "Stock Beta                    1.04           1.07     -25%\n",
      "Yield (12M trailing)          1.2%           1.2%     -50%\n",
      "R.O.E.                         50%            38%\n",
      "Market Cap (U.S. $ bn)        947.1     1095.2\n",
      "\n",
      "S&P 500 Growth\n",
      "Description\n",
      "The S&P 500 Growth is comprises S&P 500 stocks with above-average combinations of the ratio of earnings growth to price, sales growth, and momentum. The weighting is by\n",
      "capitalization, although the weight of some stocks is divided between the Value and Growth indices.                                        As of June 30, 2025 the index comprised 211 constituents.\n",
      "\n",
      "Index Statistics                1M      3M       YTD         12M    3Y                                                        5Y  10Y      15Y                                                         Low Volatility\n",
      "Total Return (Ann)             6.3%     18.9%    8.9%    19.9%    23.4%    17.3%                                                 16.0%     16.8%\n",
      "Relative to Benchmark          1.3%      8.0%    2.7%     4.7%     3.7%     0.7%                                                  2.3%     2.0%\n",
      "Index Volatility                                         15.4%    17.9%    19.1%                                                 17.1%     15.5%                                           Small Size       Benchmark Momentum\n",
      "Tracking Error                                            6.7%     6.0%     6.2%                                                  5.1%     4.3%\n",
      "Benchmark: S&P 500.       1 Yr trailing beta to benchmark = 1.24\n",
      "\n",
      "Portfolio Statistics          Index     Bmark          Top Sector Tilts (versus benchmark)\n",
      "Active Share (Stock)          33%              0%      Sector              Index                                                  Bmark    Diff.          Quality                                                                                              Value\n",
      "Active Share (Sector)         14%              0%      IT                   39%                                                   32%      8%\n",
      "Concentration (HH Index)      405.0     203.7          Communications       15%                                                   10%      5%\n",
      "Correlation (stock)           0.42           0.34      Health Care           6%                                                   10%      4%\n",
      "Ann. Turnover (last 10 yr)    0.26           0.04      Energy                1%                                                    3%      2%                                              Dividend                  High Beta\n",
      "\n",
      "Index-Weighted Avg.           Index     Bmark          Sector Tilts (Detail)                                                                                                                             Factor Exposure Chart\n",
      "Stock Volatility              39%             35%        50%\n",
      "12M - 1M price return         35%             23%        25%\n",
      "Book/Price                    0.10           0.19                                                              2%                                                                                        8%                                                  5%\n",
      "Earnings/Price                0.03           0.04        0%\n",
      "Sales/Price                   0.17           0.31                                                                    -2%          -2%    -2%        -4%                                    0%                  -1%  -1%                                        -1%\n",
      "Stock Beta                    1.33           1.07       -25%\n",
      "Yield (12M trailing)          0.6%           1.2%\n",
      "R.O.E.                         45%            38%       -50%\n",
      "Market Cap (U.S. $ bn)        1434.0    1095.2\n",
      "\n",
      " S&P 500 Quality FCF Aristocrats was launched on Sep. 23, 2024. All data prior to the launch date is back-tested hypothetical data. Past performance is no guarantee of future results. Chart/table is provided for illustrative purposes and reflects hypoth\n",
      "                                                                                                                                                                                                                           etical\n",
      " historical performance. Please see the Performance Disclosure at the end of this document for more information regarding the inherent limitations associated with back-tested performance.\n",
      "Source: S&P Dow Jones Indices LLC and/or its affiliates. Data as of June 30, 2025. Returns in U.S. dollars.                                                                                                    For use with institutions only, not for use with retail investors.  11\n"
     ]
    }
   ],
   "source": [
    "docs = []\n",
    "\n",
    "for dindex, doc in enumerate(text_data):\n",
    "    pages=[]\n",
    "    for index, page in enumerate(doc.pages):\n",
    "        pages.append(page.text)\n",
    "    docs.append(pages)\n",
    "\n",
    "print(docs[0][10])"
   ]
  },
  {
   "cell_type": "markdown",
   "metadata": {},
   "source": [
    "## Querying with ZeroEntropy\n",
    "We’ll now define functions to upload the documents as text pages asynchroniously."
   ]
  },
  {
   "cell_type": "code",
   "execution_count": 58,
   "metadata": {},
   "outputs": [],
   "source": [
    "import asyncio\n",
    "from tqdm.asyncio import tqdm\n",
    "\n",
    "sem = asyncio.Semaphore(16)\n",
    "async def add_document_with_pages(collection_name: str, filename: str, pages: list, doc_index: int):\n",
    "    \"\"\"Add a single document with multiple pages to the collection.\"\"\"\n",
    "    async with sem:  # Limit concurrent operations\n",
    "        for retry in range(3):  # Retry logic\n",
    "            try:\n",
    "                response = await zclient.documents.add(\n",
    "                    collection_name=collection_name,\n",
    "                    path=filename,  # Use the actual filename as path\n",
    "                    content={\n",
    "                        \"type\": \"text-pages\",\n",
    "                        \"pages\": pages  # Send list of strings directly\n",
    "                    }\n",
    "                )\n",
    "                return response\n",
    "            except ConflictError:\n",
    "                print(f\"Document '{filename}' already exists in collection '{collection_name}'\")\n",
    "                break\n",
    "            except Exception as e:\n",
    "                if retry == 2:  # Last retry\n",
    "                    print(f\"Failed to add document '{filename}': {e}\")\n",
    "                    return None\n",
    "                await asyncio.sleep(0.1 * (retry + 1))  # Exponential backoff\n",
    "\n",
    "async def upload_documents_async(docs: list, file_names: list, collection_name: str):\n",
    "    \"\"\"\n",
    "    Upload documents asynchronously to ZeroEntropy collection.\n",
    "    \n",
    "    Args:\n",
    "        docs: 2D array where docs[i] contains the list of pages (strings) for document i\n",
    "        file_names: Array where file_names[i] contains the path for document i\n",
    "        collection_name: Name of the collection to add documents to\n",
    "    \"\"\"\n",
    "    \n",
    "    # Validate input arrays have same length\n",
    "    if len(docs) != len(file_names):\n",
    "        raise ValueError(\"docs and file_names must have the same length\")\n",
    "    \n",
    "    # Print starting message\n",
    "    print(f\"Starting upload of {len(docs)} documents...\")\n",
    "    \n",
    "    # Create tasks for all documents\n",
    "    tasks = [\n",
    "        add_document_with_pages(collection_name, file_names[i], docs[i], i)\n",
    "        for i in range(len(docs))\n",
    "    ]\n",
    "    \n",
    "    # Execute all tasks concurrently with progress bar\n",
    "    results = await tqdm.gather(*tasks, desc=\"Uploading Documents\")\n",
    "    \n",
    "    # Count successful uploads\n",
    "    successful = sum(1 for result in results if result is not None)\n",
    "    print(f\"Successfully uploaded {successful}/{len(docs)} documents\")\n",
    "    \n",
    "    return results"
   ]
  },
  {
   "cell_type": "markdown",
   "metadata": {},
   "source": [
    "### Querying documents with ZeroEntropy\n",
    "First we will upload documents"
   ]
  },
  {
   "cell_type": "code",
   "execution_count": 60,
   "metadata": {},
   "outputs": [
    {
     "name": "stdout",
     "output_type": "stream",
     "text": [
      "Starting upload of 5 documents...\n"
     ]
    },
    {
     "name": "stderr",
     "output_type": "stream",
     "text": [
      "Uploading Documents: 100%|██████████| 5/5 [00:01<00:00,  3.02it/s]"
     ]
    },
    {
     "name": "stdout",
     "output_type": "stream",
     "text": [
      "Document './sample_docs/annual-report-multi-page.pdf' already exists in collection 'pdf_docs_demo_vn'\n",
      "Document './sample_docs/annual-report-sg-en-spy-PageSeven.pdf' already exists in collection 'pdf_docs_demo_vn'\n",
      "Document './sample_docs/dashboard-sp-500-factor.pdf' already exists in collection 'pdf_docs_demo_vn'\n",
      "Document './sample_docs/S-P-Global-2024-PageNine.pdf' already exists in collection 'pdf_docs_demo_vn'\n",
      "Document './sample_docs/S-P-Global-2024-PageFifty.pdf' already exists in collection 'pdf_docs_demo_vn'\n",
      "Successfully uploaded 0/5 documents\n"
     ]
    },
    {
     "name": "stderr",
     "output_type": "stream",
     "text": [
      "\n"
     ]
    },
    {
     "data": {
      "text/plain": [
       "[None, None, None, None, None]"
      ]
     },
     "execution_count": 60,
     "metadata": {},
     "output_type": "execute_result"
    }
   ],
   "source": [
    "await upload_documents_async(docs, file_names, \"pdf_docs_demo_vn\")"
   ]
  },
  {
   "cell_type": "markdown",
   "metadata": {},
   "source": [
    "Query for the top 5 pages"
   ]
  },
  {
   "cell_type": "code",
   "execution_count": 61,
   "metadata": {},
   "outputs": [],
   "source": [
    "response = await zclient.queries.top_pages(\n",
    "    collection_name=\"pdf_docs_demo_vn\",\n",
    "    query=\"What are the top 100 stocks in the S&P 500?\",\n",
    "    k=5,\n",
    ")"
   ]
  },
  {
   "cell_type": "markdown",
   "metadata": {},
   "source": [
    "Now let's define a function to rerank the pages in the response:"
   ]
  },
  {
   "cell_type": "code",
   "execution_count": 86,
   "metadata": {},
   "outputs": [],
   "source": [
    "async def rerank_top_pages_with_metadata(query: str, top_pages_response, collection_name: str):\n",
    "    \"\"\"\n",
    "    Rerank the results from a top_pages query and return re-ordered list with metadata.\n",
    "    \n",
    "    Args:\n",
    "        query: The query string to use for reranking\n",
    "        top_pages_response: The response object from zclient.queries.top_pages()\n",
    "        collection_name: Name of the collection to fetch page content from\n",
    "    \n",
    "    Returns:\n",
    "        List of dicts with 'path', 'page_index', and 'rerank_score' in reranked order\n",
    "    \"\"\"\n",
    "    \n",
    "    # Fetch page content and store metadata for each result\n",
    "    documents = []\n",
    "    metadata = []\n",
    "    \n",
    "    for result in top_pages_response.results:\n",
    "        # Fetch the actual page content\n",
    "        page_info = await zclient.documents.get_page_info(\n",
    "            collection_name=collection_name,\n",
    "            path=result.path,\n",
    "            page_index=result.page_index,\n",
    "            include_content=True\n",
    "        )\n",
    "        \n",
    "        # Get page content and ensure it's not empty\n",
    "        page_content = page_info.page.content\n",
    "        if page_content and page_content.strip():\n",
    "            documents.append(page_content.strip())\n",
    "            metadata.append({\n",
    "                \"path\": result.path,\n",
    "                \"page_index\": result.page_index,\n",
    "                \"original_score\": result.score\n",
    "            })\n",
    "        else:\n",
    "            # Include empty pages with fallback content\n",
    "            documents.append(\"No content available\")\n",
    "            metadata.append({\n",
    "                \"path\": result.path,\n",
    "                \"page_index\": result.page_index,\n",
    "                \"original_score\": result.score\n",
    "            })\n",
    "    \n",
    "    if not documents:\n",
    "        raise ValueError(\"No documents found to rerank\")\n",
    "    \n",
    "    # Perform reranking\n",
    "    rerank_response = await zclient.models.rerank(\n",
    "        model=\"zerank-1\",\n",
    "        query=query,\n",
    "        documents=documents\n",
    "    )\n",
    "    \n",
    "    # Create re-ordered list with metadata\n",
    "    reranked_results = []\n",
    "    for rerank_result in rerank_response.results:\n",
    "        original_metadata = metadata[rerank_result.index]\n",
    "        reranked_results.append({\n",
    "            \"path\": original_metadata[\"path\"],\n",
    "            \"page_index\": original_metadata[\"page_index\"],\n",
    "            \"rerank_score\": rerank_result.relevance_score\n",
    "        })\n",
    "    \n",
    "    return reranked_results"
   ]
  },
  {
   "cell_type": "markdown",
   "metadata": {},
   "source": [
    "Run the function and see the results!"
   ]
  },
  {
   "cell_type": "code",
   "execution_count": 87,
   "metadata": {},
   "outputs": [
    {
     "name": "stdout",
     "output_type": "stream",
     "text": [
      "Reranked Results with Metadata:\n",
      "Rank 1: ./sample_docs/dashboard-sp-500-factor.pdf (Page 9) - Score: 0.8472\n",
      "Rank 2: ./sample_docs/dashboard-sp-500-factor.pdf (Page 12) - Score: 0.8311\n",
      "Rank 3: ./sample_docs/dashboard-sp-500-factor.pdf (Page 8) - Score: 0.7941\n",
      "Rank 4: ./sample_docs/annual-report-sg-en-spy-PageSeven.pdf (Page 0) - Score: 0.7837\n",
      "Rank 5: ./sample_docs/dashboard-sp-500-factor.pdf (Page 4) - Score: 0.4511\n"
     ]
    }
   ],
   "source": [
    "reranked_results = await rerank_top_pages_with_metadata(\n",
    "    query=\"What are the top 100 stocks in the S&P 500?\",\n",
    "    top_pages_response=response,\n",
    "    collection_name=\"pdf_docs_demo_vn\"\n",
    ")\n",
    "\n",
    "# Display results\n",
    "print(\"Reranked Results with Metadata:\")\n",
    "for i, result in enumerate(reranked_results, 1):\n",
    "    print(f\"Rank {i}: {result['path']} (Page {result['page_index']}) - Score: {result['rerank_score']:.4f}\")"
   ]
  },
  {
   "cell_type": "markdown",
   "metadata": {},
   "source": [
    "### ✅ That's It!\n",
    "\n",
    "You’ve now built a working semantic search engine over markdown files using ZeroEntropy — great for indexing changelogs, guides, and internal dev docs."
   ]
  }
 ],
 "metadata": {
  "kernelspec": {
   "display_name": "myenv",
   "language": "python",
   "name": "python3"
  },
  "language_info": {
   "codemirror_mode": {
    "name": "ipython",
    "version": 3
   },
   "file_extension": ".py",
   "mimetype": "text/x-python",
   "name": "python",
   "nbconvert_exporter": "python",
   "pygments_lexer": "ipython3",
   "version": "3.12.3"
  }
 },
 "nbformat": 4,
 "nbformat_minor": 2
}
