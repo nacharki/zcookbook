{
 "cells": [
  {
   "cell_type": "code",
   "execution_count": null,
   "id": "926d5fd6",
   "metadata": {},
   "outputs": [],
   "source": [
    "%pip install openai zeroentropy"
   ]
  },
  {
   "cell_type": "markdown",
   "id": "c6f8562d",
   "metadata": {},
   "source": [
    "# Setting up ZeroEntropy\n",
    "\n",
    "First, we setup ZeroEntropy with a test document.\n",
    "\n",
    "This will require an API Key from https://dashboard.zeroentropy.dev/api-keys"
   ]
  },
  {
   "cell_type": "code",
   "execution_count": null,
   "id": "0e4d0755",
   "metadata": {},
   "outputs": [
    {
     "name": "stdout",
     "output_type": "stream",
     "text": [
      "Collection already exists!\n",
      "Document already exists!\n",
      "The document is indexed!\n"
     ]
    }
   ],
   "source": [
    "from zeroentropy import ZeroEntropy, ConflictError\n",
    "import time\n",
    "import os\n",
    "\n",
    "# Index an example collection into ZeroEntropy\n",
    "# Go to https://dashboard.zeroentropy.dev/api-keys if you need an API Key!\n",
    "zclient = ZeroEntropy(api_key=os.getenv(\"ZEROENTROPY_API_KEY\"))\n",
    "\n",
    "COLLECTION_NAME = \"deepresearch-test\"\n",
    "PATH = \"secret.txt\"\n",
    "try:\n",
    "    zclient.collections.add(collection_name=COLLECTION_NAME)\n",
    "    print(\"Collection Created!\")\n",
    "except ConflictError:\n",
    "    print(\"Collection already exists!\")\n",
    "\n",
    "# Add the document\n",
    "try:\n",
    "    zclient.documents.add(\n",
    "        collection_name=COLLECTION_NAME,\n",
    "        path=PATH,\n",
    "        content={\n",
    "            \"type\": \"text\",\n",
    "            \"text\": \"The Deep Research secret is: \\\"489284\\\"\",\n",
    "        }\n",
    "    )\n",
    "    print(\"Document Added!\")\n",
    "except ConflictError:\n",
    "    print(\"Document already exists!\")\n",
    "\n",
    "# Wait until it's indexed\n",
    "while True:\n",
    "    if zclient.documents.get_info(collection_name=COLLECTION_NAME, path=PATH).document.index_status == \"indexed\":\n",
    "        break\n",
    "    time.sleep(1)\n",
    "print(\"The document is indexed!\")"
   ]
  },
  {
   "cell_type": "markdown",
   "id": "9cb8c2b3",
   "metadata": {},
   "source": [
    "# Calling OpenAI DeepResearch\n",
    "\n",
    "Now we can simply call OpenAI using our OpenAI API Key.\n",
    "\n",
    "This code will pass in ZeroEntropy's MCP url, and also our `zclient`'s API Key and collection name.\n",
    "\n",
    "Then, OpenAI Deep Research will find the secret and output it!"
   ]
  },
  {
   "cell_type": "code",
   "execution_count": null,
   "id": "aa0fb50c",
   "metadata": {},
   "outputs": [
    {
     "name": "stdout",
     "output_type": "stream",
     "text": [
      "# Secret discovered with one search\n",
      "\n",
      "- **Search query:** Performed one search call on the ZeroEntropy data with the query `\"the secret\"`.  \n",
      "- **Search result:** The query returned a file named **`secret.txt`**.  \n",
      "- **Secret content:** Opening `secret.txt` shows the line:  \n",
      "  > The Deep Research secret is: `\"489284\"` ([api.zeroentropy.dev](https://api.zeroentropy.dev/v1/documents/get-document?token=cRR5jBh9-eyNMng8nH0t3r_pvCTkxQpuJEArf2YnSyvLk7rPcJWzOlrIzjYGp8raesi-8Sn8XuxDcTpfjkChpkI_spOxNUjdh8iZofZJSKfzr4x50rZbukUutEiJa_D8oD_MXFT_3FB80zB_3EojRdTyer1-oHWZoCEbV5gWNfsYLdRjR11QNEREsIFjSxF84Q5g6VQI9S9LD4qc9Q3Mkt2xn7Qlv0Gx8FsZTbFlUmjT7qUtO9Ue6XgiZrOt9Duj)).  \n",
      "  This line clearly reveals the secret number.  \n",
      "- **Answer:** The secret is **489284** ([api.zeroentropy.dev](https://api.zeroentropy.dev/v1/documents/get-document?token=cRR5jBh9-eyNMng8nH0t3r_pvCTkxQpuJEArf2YnSyvLk7rPcJWzOlrIzjYGp8raesi-8Sn8XuxDcTpfjkChpkI_spOxNUjdh8iZofZJSKfzr4x50rZbukUutEiJa_D8oD_MXFT_3FB80zB_3EojRdTyer1-oHWZoCEbV5gWNfsYLdRjR11QNEREsIFjSxF84Q5g6VQI9S9LD4qc9Q3Mkt2xn7Qlv0Gx8FsZTbFlUmjT7qUtO9Ue6XgiZrOt9Duj)).  \n",
      "\n",
      "The citation above comes from the contents of `secret.txt` ([api.zeroentropy.dev](https://api.zeroentropy.dev/v1/documents/get-document?token=cRR5jBh9-eyNMng8nH0t3r_pvCTkxQpuJEArf2YnSyvLk7rPcJWzOlrIzjYGp8raesi-8Sn8XuxDcTpfjkChpkI_spOxNUjdh8iZofZJSKfzr4x50rZbukUutEiJa_D8oD_MXFT_3FB80zB_3EojRdTyer1-oHWZoCEbV5gWNfsYLdRjR11QNEREsIFjSxF84Q5g6VQI9S9LD4qc9Q3Mkt2xn7Qlv0Gx8FsZTbFlUmjT7qUtO9Ue6XgiZrOt9Duj)) obtained via the one search call. \n",
      "\n",
      "**Reference:** The file `secret.txt` in the ZeroEntropy database contains the secret number as shown ([api.zeroentropy.dev](https://api.zeroentropy.dev/v1/documents/get-document?token=cRR5jBh9-eyNMng8nH0t3r_pvCTkxQpuJEArf2YnSyvLk7rPcJWzOlrIzjYGp8raesi-8Sn8XuxDcTpfjkChpkI_spOxNUjdh8iZofZJSKfzr4x50rZbukUutEiJa_D8oD_MXFT_3FB80zB_3EojRdTyer1-oHWZoCEbV5gWNfsYLdRjR11QNEREsIFjSxF84Q5g6VQI9S9LD4qc9Q3Mkt2xn7Qlv0Gx8FsZTbFlUmjT7qUtO9Ue6XgiZrOt9Duj)).\n",
      "\n",
      "\n"
     ]
    }
   ],
   "source": [
    "from openai import OpenAI\n",
    "\n",
    "# Using OpenAI API Key\n",
    "client = OpenAI(api_key=os.getenv(\"OPENAI_API_KEY\"))\n",
    "response = client.responses.create(\n",
    "  model=\"o4-mini-deep-research\",\n",
    "  input=[\n",
    "    {\n",
    "      \"role\": \"developer\",\n",
    "      \"content\": [\n",
    "        {\n",
    "          \"type\": \"input_text\",\n",
    "          \"text\": \"You are a research assistant that searches MCP servers to find answers to your questions.\",\n",
    "        }\n",
    "      ]\n",
    "    },\n",
    "    {\n",
    "      \"role\": \"user\",\n",
    "      \"content\": [\n",
    "        {\n",
    "          \"type\": \"input_text\",\n",
    "          \"text\": \"In one search call, find the secret\",\n",
    "        }\n",
    "      ]\n",
    "    }\n",
    "  ],\n",
    "  reasoning={\n",
    "    \"summary\": \"auto\",\n",
    "  },\n",
    "  tools=[\n",
    "    {\n",
    "      \"type\": \"mcp\",\n",
    "      \"server_label\": \"ZeroEntropy\",\n",
    "      \"server_url\": \"https://openai-deepresearch.zeroentropy.dev/sse/\",\n",
    "      \"headers\": {\n",
    "        \"Authorization\": f\"Bearer {zclient.api_key}\",\n",
    "        \"X-Collection-Name\": COLLECTION_NAME,\n",
    "      },\n",
    "      \"allowed_tools\": [\n",
    "        \"search\",\n",
    "        \"fetch\",\n",
    "      ],\n",
    "      \"require_approval\": \"never\",\n",
    "    }\n",
    "  ]\n",
    ")\n",
    "\n",
    "print(response.output_text)"
   ]
  }
 ],
 "metadata": {
  "kernelspec": {
   "display_name": ".venv",
   "language": "python",
   "name": "python3"
  },
  "language_info": {
   "codemirror_mode": {
    "name": "ipython",
    "version": 3
   },
   "file_extension": ".py",
   "mimetype": "text/x-python",
   "name": "python",
   "nbconvert_exporter": "python",
   "pygments_lexer": "ipython3",
   "version": "3.12.10"
  }
 },
 "nbformat": 4,
 "nbformat_minor": 5
}
